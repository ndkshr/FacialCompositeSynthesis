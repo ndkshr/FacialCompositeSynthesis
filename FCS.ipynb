{
  "nbformat": 4,
  "nbformat_minor": 0,
  "metadata": {
    "colab": {
      "name": "FCS.ipynb",
      "version": "0.3.2",
      "provenance": [],
      "collapsed_sections": [],
      "include_colab_link": true
    },
    "kernelspec": {
      "name": "python3",
      "display_name": "Python 3"
    },
    "accelerator": "GPU"
  },
  "cells": [
    {
      "cell_type": "markdown",
      "metadata": {
        "id": "view-in-github",
        "colab_type": "text"
      },
      "source": [
        "<a href=\"https://colab.research.google.com/github/ndkshr/TextToFacialComposite/blob/master/FCS.ipynb\" target=\"_parent\"><img src=\"https://colab.research.google.com/assets/colab-badge.svg\" alt=\"Open In Colab\"/></a>"
      ]
    },
    {
      "cell_type": "code",
      "metadata": {
        "id": "PXciFOVHRhx3",
        "colab_type": "code",
        "outputId": "f54f3534-cc44-4f88-e139-92fd886c49c3",
        "colab": {
          "base_uri": "https://localhost:8080/",
          "height": 136
        }
      },
      "source": [
        "!rm -rf T2F\n",
        "!git clone https://github.com/ndkshr/T2F.git"
      ],
      "execution_count": 0,
      "outputs": [
        {
          "output_type": "stream",
          "text": [
            "Cloning into 'T2F'...\n",
            "remote: Enumerating objects: 62, done.\u001b[K\n",
            "remote: Counting objects:   1% (1/62)   \u001b[K\rremote: Counting objects:   3% (2/62)   \u001b[K\rremote: Counting objects:   4% (3/62)   \u001b[K\rremote: Counting objects:   6% (4/62)   \u001b[K\rremote: Counting objects:   8% (5/62)   \u001b[K\rremote: Counting objects:   9% (6/62)   \u001b[K\rremote: Counting objects:  11% (7/62)   \u001b[K\rremote: Counting objects:  12% (8/62)   \u001b[K\rremote: Counting objects:  14% (9/62)   \u001b[K\rremote: Counting objects:  16% (10/62)   \u001b[K\rremote: Counting objects:  17% (11/62)   \u001b[K\rremote: Counting objects:  19% (12/62)   \u001b[K\rremote: Counting objects:  20% (13/62)   \u001b[K\rremote: Counting objects:  22% (14/62)   \u001b[K\rremote: Counting objects:  24% (15/62)   \u001b[K\rremote: Counting objects:  25% (16/62)   \u001b[K\rremote: Counting objects:  27% (17/62)   \u001b[K\rremote: Counting objects:  29% (18/62)   \u001b[K\rremote: Counting objects:  30% (19/62)   \u001b[K\rremote: Counting objects:  32% (20/62)   \u001b[K\rremote: Counting objects:  33% (21/62)   \u001b[K\rremote: Counting objects:  35% (22/62)   \u001b[K\rremote: Counting objects:  37% (23/62)   \u001b[K\rremote: Counting objects:  38% (24/62)   \u001b[K\rremote: Counting objects:  40% (25/62)   \u001b[K\rremote: Counting objects:  41% (26/62)   \u001b[K\rremote: Counting objects:  43% (27/62)   \u001b[K\rremote: Counting objects:  45% (28/62)   \u001b[K\rremote: Counting objects:  46% (29/62)   \u001b[K\rremote: Counting objects:  48% (30/62)   \u001b[K\rremote: Counting objects:  50% (31/62)   \u001b[K\rremote: Counting objects:  51% (32/62)   \u001b[K\rremote: Counting objects:  53% (33/62)   \u001b[K\rremote: Counting objects:  54% (34/62)   \u001b[K\rremote: Counting objects:  56% (35/62)   \u001b[K\rremote: Counting objects:  58% (36/62)   \u001b[K\rremote: Counting objects:  59% (37/62)   \u001b[K\rremote: Counting objects:  61% (38/62)   \u001b[K\rremote: Counting objects:  62% (39/62)   \u001b[K\rremote: Counting objects:  64% (40/62)   \u001b[K\rremote: Counting objects:  66% (41/62)   \u001b[K\rremote: Counting objects:  67% (42/62)   \u001b[K\rremote: Counting objects:  69% (43/62)   \u001b[K\rremote: Counting objects:  70% (44/62)   \u001b[K\rremote: Counting objects:  72% (45/62)   \u001b[K\rremote: Counting objects:  74% (46/62)   \u001b[K\rremote: Counting objects:  75% (47/62)   \u001b[K\rremote: Counting objects:  77% (48/62)   \u001b[K\rremote: Counting objects:  79% (49/62)   \u001b[K\rremote: Counting objects:  80% (50/62)   \u001b[K\rremote: Counting objects:  82% (51/62)   \u001b[K\rremote: Counting objects:  83% (52/62)   \u001b[K\rremote: Counting objects:  85% (53/62)   \u001b[K\rremote: Counting objects:  87% (54/62)   \u001b[K\rremote: Counting objects:  88% (55/62)   \u001b[K\rremote: Counting objects:  90% (56/62)   \u001b[K\rremote: Counting objects:  91% (57/62)   \u001b[K\rremote: Counting objects:  93% (58/62)   \u001b[K\rremote: Counting objects:  95% (59/62)   \u001b[K\rremote: Counting objects:  96% (60/62)   \u001b[K\rremote: Counting objects:  98% (61/62)   \u001b[K\rremote: Counting objects: 100% (62/62)   \u001b[K\rremote: Counting objects: 100% (62/62), done.\u001b[K\n",
            "remote: Compressing objects: 100% (51/51), done.\u001b[K\n",
            "remote: Total 353 (delta 28), reused 36 (delta 11), pack-reused 291\u001b[K\n",
            "Receiving objects: 100% (353/353), 509.58 MiB | 36.66 MiB/s, done.\n",
            "Resolving deltas: 100% (146/146), done.\n"
          ],
          "name": "stdout"
        }
      ]
    },
    {
      "cell_type": "code",
      "metadata": {
        "id": "OFknAIykoQ9S",
        "colab_type": "code",
        "outputId": "39b7bde1-72cc-4f33-d855-db0759c4c96b",
        "colab": {
          "base_uri": "https://localhost:8080/",
          "height": 122
        }
      },
      "source": [
        "from google.colab import drive\n",
        "drive.mount('/content/gdrive')"
      ],
      "execution_count": 0,
      "outputs": [
        {
          "output_type": "stream",
          "text": [
            "Go to this URL in a browser: https://accounts.google.com/o/oauth2/auth?client_id=947318989803-6bn6qk8qdgf4n4g3pfee6491hc0brc4i.apps.googleusercontent.com&redirect_uri=urn%3Aietf%3Awg%3Aoauth%3A2.0%3Aoob&scope=email%20https%3A%2F%2Fwww.googleapis.com%2Fauth%2Fdocs.test%20https%3A%2F%2Fwww.googleapis.com%2Fauth%2Fdrive%20https%3A%2F%2Fwww.googleapis.com%2Fauth%2Fdrive.photos.readonly%20https%3A%2F%2Fwww.googleapis.com%2Fauth%2Fpeopleapi.readonly&response_type=code\n",
            "\n",
            "Enter your authorization code:\n",
            "··········\n",
            "Mounted at /content/gdrive\n"
          ],
          "name": "stdout"
        }
      ]
    },
    {
      "cell_type": "code",
      "metadata": {
        "id": "ziIY-pcdywIi",
        "colab_type": "code",
        "colab": {}
      },
      "source": [
        "!mkdir /content/T2F/implementation/networks/InferSent/models"
      ],
      "execution_count": 0,
      "outputs": []
    },
    {
      "cell_type": "code",
      "metadata": {
        "colab_type": "code",
        "id": "d3ZvnqYcbUCQ",
        "colab": {}
      },
      "source": [
        "!cp /content/gdrive/My\\ Drive/T2F/infersent2.pkl /content/T2F/implementation/networks/InferSent/models/infersent2.pkl\n",
        "#!curl -Lo /content/T2F/implementation/networks/InferSent/models/infersent2.pkl https://dl.fbaipublicfiles.com/infersent/infersent2.pkl"
      ],
      "execution_count": 0,
      "outputs": []
    },
    {
      "cell_type": "code",
      "metadata": {
        "colab_type": "code",
        "id": "6vApvNaubTSN",
        "outputId": "23817cac-8a64-4d42-d024-bb45ddc8458a",
        "colab": {
          "base_uri": "https://localhost:8080/",
          "height": 34
        }
      },
      "source": [
        "!ls -lah /content/T2F/implementation/networks/InferSent/models/infersent2.pkl"
      ],
      "execution_count": 0,
      "outputs": [
        {
          "output_type": "stream",
          "text": [
            "-r-------- 1 root root 147M Jun 14 07:02 /content/T2F/implementation/networks/InferSent/models/infersent2.pkl\n"
          ],
          "name": "stdout"
        }
      ]
    },
    {
      "cell_type": "code",
      "metadata": {
        "id": "ofceeymwb6TW",
        "colab_type": "code",
        "colab": {}
      },
      "source": [
        "#!wget http://nlp.stanford.edu/data/glove.840B.300d.zip\n",
        "#!unzip glove.840B.300d.zip\n",
        "#!mv glove.840B.300d.txt /content/T2F/implementation/networks/InferSent/models/glove.840B.300d.txt"
      ],
      "execution_count": 0,
      "outputs": []
    },
    {
      "cell_type": "code",
      "metadata": {
        "id": "DM8XAgjC-lUU",
        "colab_type": "code",
        "colab": {}
      },
      "source": [
        "#!mv glove.840B.300d.txt /content/T2F/implementation/networks/InferSent/models/glove.840B.300d.txt"
      ],
      "execution_count": 0,
      "outputs": []
    },
    {
      "cell_type": "code",
      "metadata": {
        "id": "mlOVy4BU2pEw",
        "colab_type": "code",
        "colab": {}
      },
      "source": [
        "#!cp /content/T2F/implementation/networks/InferSent/models/glove.840B.300d.txt /content/gdrive/My\\ Drive/T2F/glove.840B.300d.txt"
      ],
      "execution_count": 0,
      "outputs": []
    },
    {
      "cell_type": "code",
      "metadata": {
        "id": "7mACmLUm_6jw",
        "colab_type": "code",
        "colab": {}
      },
      "source": [
        "!cp /content/gdrive/My\\ Drive/T2F/glove.840B.300d.txt /content/T2F/implementation/networks/InferSent/models/glove.840B.300d.txt "
      ],
      "execution_count": 0,
      "outputs": []
    },
    {
      "cell_type": "code",
      "metadata": {
        "id": "kHj9d1GIRvkW",
        "colab_type": "code",
        "outputId": "80702f3e-6659-4b2f-ed56-be0839c7730e",
        "colab": {
          "base_uri": "https://localhost:8080/",
          "height": 204
        }
      },
      "source": [
        "!wget http://vis-www.cs.umass.edu/lfw/lfw.tgz\n",
        "!tar -xf lfw.tgz"
      ],
      "execution_count": 0,
      "outputs": [
        {
          "output_type": "stream",
          "text": [
            "--2019-06-14 07:05:02--  http://vis-www.cs.umass.edu/lfw/lfw.tgz\n",
            "Resolving vis-www.cs.umass.edu (vis-www.cs.umass.edu)... 128.119.244.95\n",
            "Connecting to vis-www.cs.umass.edu (vis-www.cs.umass.edu)|128.119.244.95|:80... connected.\n",
            "HTTP request sent, awaiting response... 200 OK\n",
            "Length: 180566744 (172M) [application/x-gzip]\n",
            "Saving to: ‘lfw.tgz’\n",
            "\n",
            "lfw.tgz             100%[===================>] 172.20M  32.8MB/s    in 7.0s    \n",
            "\n",
            "2019-06-14 07:05:09 (24.6 MB/s) - ‘lfw.tgz’ saved [180566744/180566744]\n",
            "\n"
          ],
          "name": "stdout"
        }
      ]
    },
    {
      "cell_type": "code",
      "metadata": {
        "id": "2k0hZ8A-fUMf",
        "colab_type": "code",
        "outputId": "90410fd7-9b98-4e64-de69-561cad43a9b0",
        "colab": {
          "base_uri": "https://localhost:8080/",
          "height": 1703
        }
      },
      "source": [
        "!pip install -r T2F/requirements.txt"
      ],
      "execution_count": 0,
      "outputs": [
        {
          "output_type": "stream",
          "text": [
            "Collecting tensorflow==1.7.0 (from -r T2F/requirements.txt (line 1))\n",
            "\u001b[?25l  Downloading https://files.pythonhosted.org/packages/38/4a/42ba8d00a50a9fafc88dd5935246ecc64ffe1f6a0258ef535ffb9652140b/tensorflow-1.7.0-cp36-cp36m-manylinux1_x86_64.whl (48.0MB)\n",
            "\u001b[K     |████████████████████████████████| 48.0MB 611kB/s \n",
            "\u001b[?25hCollecting numpy==1.13.1 (from -r T2F/requirements.txt (line 2))\n",
            "\u001b[?25l  Downloading https://files.pythonhosted.org/packages/59/e2/57c1a6af4ff0ac095dd68b12bf07771813dbf401faf1b97f5fc0cb963647/numpy-1.13.1-cp36-cp36m-manylinux1_x86_64.whl (17.0MB)\n",
            "\u001b[K     |████████████████████████████████| 17.0MB 24.3MB/s \n",
            "\u001b[?25hCollecting Pillow==5.1.0 (from -r T2F/requirements.txt (line 3))\n",
            "\u001b[?25l  Downloading https://files.pythonhosted.org/packages/5f/4b/8b54ab9d37b93998c81b364557dff9f61972c0f650efa0ceaf470b392740/Pillow-5.1.0-cp36-cp36m-manylinux1_x86_64.whl (2.0MB)\n",
            "\u001b[K     |████████████████████████████████| 2.0MB 41.0MB/s \n",
            "\u001b[?25hCollecting easydict==1.7 (from -r T2F/requirements.txt (line 4))\n",
            "  Downloading https://files.pythonhosted.org/packages/df/e0/021f827dd5c11ac32c89f4b6bd0e3eddfd62d544112c298bf0b13e6b0def/easydict-1.7.tar.gz\n",
            "Collecting torch==0.4.0 (from -r T2F/requirements.txt (line 5))\n",
            "\u001b[?25l  Downloading https://files.pythonhosted.org/packages/69/43/380514bd9663f1bf708abeb359b8b48d3fabb1c8e95bb3427a980a064c57/torch-0.4.0-cp36-cp36m-manylinux1_x86_64.whl (484.0MB)\n",
            "\u001b[K     |████████████████████████████████| 484.0MB 30kB/s \n",
            "\u001b[?25hCollecting torchvision==0.2.1 (from -r T2F/requirements.txt (line 6))\n",
            "\u001b[?25l  Downloading https://files.pythonhosted.org/packages/ca/0d/f00b2885711e08bd71242ebe7b96561e6f6d01fdb4b9dcf4d37e2e13c5e1/torchvision-0.2.1-py2.py3-none-any.whl (54kB)\n",
            "\u001b[K     |████████████████████████████████| 61kB 25.6MB/s \n",
            "\u001b[?25hCollecting PyYAML==3.12 (from -r T2F/requirements.txt (line 7))\n",
            "\u001b[?25l  Downloading https://files.pythonhosted.org/packages/4a/85/db5a2df477072b2902b0eb892feb37d88ac635d36245a72a6a69b23b383a/PyYAML-3.12.tar.gz (253kB)\n",
            "\u001b[K     |████████████████████████████████| 256kB 48.8MB/s \n",
            "\u001b[?25hCollecting tensorboard<1.8.0,>=1.7.0 (from tensorflow==1.7.0->-r T2F/requirements.txt (line 1))\n",
            "\u001b[?25l  Downloading https://files.pythonhosted.org/packages/0b/ec/65d4e8410038ca2a78c09034094403d231228d0ddcae7d470b223456e55d/tensorboard-1.7.0-py3-none-any.whl (3.1MB)\n",
            "\u001b[K     |████████████████████████████████| 3.1MB 40.7MB/s \n",
            "\u001b[?25hRequirement already satisfied: protobuf>=3.4.0 in /usr/local/lib/python3.6/dist-packages (from tensorflow==1.7.0->-r T2F/requirements.txt (line 1)) (3.7.1)\n",
            "Requirement already satisfied: termcolor>=1.1.0 in /usr/local/lib/python3.6/dist-packages (from tensorflow==1.7.0->-r T2F/requirements.txt (line 1)) (1.1.0)\n",
            "Requirement already satisfied: six>=1.10.0 in /usr/local/lib/python3.6/dist-packages (from tensorflow==1.7.0->-r T2F/requirements.txt (line 1)) (1.12.0)\n",
            "Requirement already satisfied: gast>=0.2.0 in /usr/local/lib/python3.6/dist-packages (from tensorflow==1.7.0->-r T2F/requirements.txt (line 1)) (0.2.2)\n",
            "Requirement already satisfied: astor>=0.6.0 in /usr/local/lib/python3.6/dist-packages (from tensorflow==1.7.0->-r T2F/requirements.txt (line 1)) (0.8.0)\n",
            "Requirement already satisfied: absl-py>=0.1.6 in /usr/local/lib/python3.6/dist-packages (from tensorflow==1.7.0->-r T2F/requirements.txt (line 1)) (0.7.1)\n",
            "Requirement already satisfied: grpcio>=1.8.6 in /usr/local/lib/python3.6/dist-packages (from tensorflow==1.7.0->-r T2F/requirements.txt (line 1)) (1.15.0)\n",
            "Requirement already satisfied: wheel>=0.26 in /usr/local/lib/python3.6/dist-packages (from tensorflow==1.7.0->-r T2F/requirements.txt (line 1)) (0.33.4)\n",
            "Requirement already satisfied: markdown>=2.6.8 in /usr/local/lib/python3.6/dist-packages (from tensorboard<1.8.0,>=1.7.0->tensorflow==1.7.0->-r T2F/requirements.txt (line 1)) (3.1.1)\n",
            "Collecting html5lib==0.9999999 (from tensorboard<1.8.0,>=1.7.0->tensorflow==1.7.0->-r T2F/requirements.txt (line 1))\n",
            "\u001b[?25l  Downloading https://files.pythonhosted.org/packages/ae/ae/bcb60402c60932b32dfaf19bb53870b29eda2cd17551ba5639219fb5ebf9/html5lib-0.9999999.tar.gz (889kB)\n",
            "\u001b[K     |████████████████████████████████| 890kB 46.3MB/s \n",
            "\u001b[?25hCollecting bleach==1.5.0 (from tensorboard<1.8.0,>=1.7.0->tensorflow==1.7.0->-r T2F/requirements.txt (line 1))\n",
            "  Downloading https://files.pythonhosted.org/packages/33/70/86c5fec937ea4964184d4d6c4f0b9551564f821e1c3575907639036d9b90/bleach-1.5.0-py2.py3-none-any.whl\n",
            "Requirement already satisfied: werkzeug>=0.11.10 in /usr/local/lib/python3.6/dist-packages (from tensorboard<1.8.0,>=1.7.0->tensorflow==1.7.0->-r T2F/requirements.txt (line 1)) (0.15.4)\n",
            "Requirement already satisfied: setuptools in /usr/local/lib/python3.6/dist-packages (from protobuf>=3.4.0->tensorflow==1.7.0->-r T2F/requirements.txt (line 1)) (41.0.1)\n",
            "Building wheels for collected packages: easydict, PyYAML, html5lib\n",
            "  Building wheel for easydict (setup.py) ... \u001b[?25l\u001b[?25hdone\n",
            "  Stored in directory: /root/.cache/pip/wheels/58/40/dd/87bc05b3d56641ccb8f099babf6ff5faed5db5c03c5d837450\n",
            "  Building wheel for PyYAML (setup.py) ... \u001b[?25l\u001b[?25hdone\n",
            "  Stored in directory: /root/.cache/pip/wheels/03/05/65/bdc14f2c6e09e82ae3e0f13d021e1b6b2481437ea2f207df3f\n",
            "  Building wheel for html5lib (setup.py) ... \u001b[?25l\u001b[?25hdone\n",
            "  Stored in directory: /root/.cache/pip/wheels/50/ae/f9/d2b189788efcf61d1ee0e36045476735c838898eef1cad6e29\n",
            "Successfully built easydict PyYAML html5lib\n",
            "\u001b[31mERROR: tensorflow 1.7.0 has requirement numpy>=1.13.3, but you'll have numpy 1.13.1 which is incompatible.\u001b[0m\n",
            "\u001b[31mERROR: tensorflow-probability 0.7.0rc0 has requirement numpy>=1.13.3, but you'll have numpy 1.13.1 which is incompatible.\u001b[0m\n",
            "\u001b[31mERROR: spacy 2.1.4 has requirement numpy>=1.15.0, but you'll have numpy 1.13.1 which is incompatible.\u001b[0m\n",
            "\u001b[31mERROR: scipy 1.3.0 has requirement numpy>=1.13.3, but you'll have numpy 1.13.1 which is incompatible.\u001b[0m\n",
            "\u001b[31mERROR: pyarrow 0.13.0 has requirement numpy>=1.14, but you'll have numpy 1.13.1 which is incompatible.\u001b[0m\n",
            "\u001b[31mERROR: magenta 0.3.19 has requirement tensorflow>=1.12.0, but you'll have tensorflow 1.7.0 which is incompatible.\u001b[0m\n",
            "\u001b[31mERROR: imgaug 0.2.9 has requirement numpy>=1.15.0, but you'll have numpy 1.13.1 which is incompatible.\u001b[0m\n",
            "\u001b[31mERROR: featuretools 0.4.1 has requirement numpy>=1.13.3, but you'll have numpy 1.13.1 which is incompatible.\u001b[0m\n",
            "\u001b[31mERROR: fastai 1.0.52 has requirement numpy>=1.15, but you'll have numpy 1.13.1 which is incompatible.\u001b[0m\n",
            "\u001b[31mERROR: fastai 1.0.52 has requirement torch>=1.0.0, but you'll have torch 0.4.0 which is incompatible.\u001b[0m\n",
            "\u001b[31mERROR: datascience 0.10.6 has requirement folium==0.2.1, but you'll have folium 0.8.3 which is incompatible.\u001b[0m\n",
            "\u001b[31mERROR: cvxpy 1.0.15 has requirement numpy>=1.14, but you'll have numpy 1.13.1 which is incompatible.\u001b[0m\n",
            "\u001b[31mERROR: blis 0.2.4 has requirement numpy>=1.15.0, but you'll have numpy 1.13.1 which is incompatible.\u001b[0m\n",
            "\u001b[31mERROR: albumentations 0.1.12 has requirement imgaug<0.2.7,>=0.2.5, but you'll have imgaug 0.2.9 which is incompatible.\u001b[0m\n",
            "Installing collected packages: html5lib, bleach, numpy, tensorboard, tensorflow, Pillow, easydict, torch, torchvision, PyYAML\n",
            "  Found existing installation: html5lib 1.0.1\n",
            "    Uninstalling html5lib-1.0.1:\n",
            "      Successfully uninstalled html5lib-1.0.1\n",
            "  Found existing installation: bleach 3.1.0\n",
            "    Uninstalling bleach-3.1.0:\n",
            "      Successfully uninstalled bleach-3.1.0\n",
            "  Found existing installation: numpy 1.16.4\n",
            "    Uninstalling numpy-1.16.4:\n",
            "      Successfully uninstalled numpy-1.16.4\n",
            "  Found existing installation: tensorboard 1.13.1\n",
            "    Uninstalling tensorboard-1.13.1:\n",
            "      Successfully uninstalled tensorboard-1.13.1\n",
            "  Found existing installation: tensorflow 1.14.0rc1\n",
            "    Uninstalling tensorflow-1.14.0rc1:\n",
            "      Successfully uninstalled tensorflow-1.14.0rc1\n",
            "  Found existing installation: Pillow 4.3.0\n",
            "    Uninstalling Pillow-4.3.0:\n",
            "      Successfully uninstalled Pillow-4.3.0\n",
            "  Found existing installation: easydict 1.9\n",
            "    Uninstalling easydict-1.9:\n",
            "      Successfully uninstalled easydict-1.9\n",
            "  Found existing installation: torch 1.1.0\n",
            "    Uninstalling torch-1.1.0:\n",
            "      Successfully uninstalled torch-1.1.0\n",
            "  Found existing installation: torchvision 0.3.0\n",
            "    Uninstalling torchvision-0.3.0:\n",
            "      Successfully uninstalled torchvision-0.3.0\n",
            "  Found existing installation: PyYAML 3.13\n",
            "    Uninstalling PyYAML-3.13:\n",
            "      Successfully uninstalled PyYAML-3.13\n",
            "Successfully installed Pillow-5.1.0 PyYAML-3.12 bleach-1.5.0 easydict-1.7 html5lib-0.9999999 numpy-1.13.1 tensorboard-1.7.0 tensorflow-1.7.0 torch-0.4.0 torchvision-0.2.1\n"
          ],
          "name": "stdout"
        },
        {
          "output_type": "display_data",
          "data": {
            "application/vnd.colab-display-data+json": {
              "pip_warning": {
                "packages": [
                  "PIL",
                  "numpy"
                ]
              }
            }
          },
          "metadata": {
            "tags": []
          }
        }
      ]
    },
    {
      "cell_type": "code",
      "metadata": {
        "id": "Cbx6loVsJyt9",
        "colab_type": "code",
        "outputId": "f3e67f2d-4650-47db-b63c-4e8ba9dda6f8",
        "colab": {
          "base_uri": "https://localhost:8080/",
          "height": 85
        }
      },
      "source": [
        "!nvcc --version"
      ],
      "execution_count": 0,
      "outputs": [
        {
          "output_type": "stream",
          "text": [
            "nvcc: NVIDIA (R) Cuda compiler driver\n",
            "Copyright (c) 2005-2018 NVIDIA Corporation\n",
            "Built on Sat_Aug_25_21:08:01_CDT_2018\n",
            "Cuda compilation tools, release 10.0, V10.0.130\n"
          ],
          "name": "stdout"
        }
      ]
    },
    {
      "cell_type": "code",
      "metadata": {
        "id": "dRIYWkG6BK7X",
        "colab_type": "code",
        "colab": {}
      },
      "source": [
        ""
      ],
      "execution_count": 0,
      "outputs": []
    },
    {
      "cell_type": "code",
      "metadata": {
        "id": "A-_he3kypRgu",
        "colab_type": "code",
        "outputId": "86cc353e-a9bd-48e9-e50c-d4ab0bafdd67",
        "colab": {
          "base_uri": "https://localhost:8080/",
          "height": 153
        }
      },
      "source": [
        "!pip uninstall -y torch\n",
        "!pip install https://download.pytorch.org/whl/cu100/torch-1.0.0-cp36-cp36m-linux_x86_64.whl\n",
        "#!pip install torch==0.4.0"
      ],
      "execution_count": 0,
      "outputs": [
        {
          "output_type": "stream",
          "text": [
            "Uninstalling torch-0.4.0:\n",
            "  Successfully uninstalled torch-0.4.0\n",
            "Collecting torch==1.0.0 from https://download.pytorch.org/whl/cu100/torch-1.0.0-cp36-cp36m-linux_x86_64.whl\n",
            "\u001b[?25l  Downloading https://download.pytorch.org/whl/cu100/torch-1.0.0-cp36-cp36m-linux_x86_64.whl (753.6MB)\n",
            "\u001b[K     |████████████████████████████████| 753.6MB 17kB/s \n",
            "\u001b[31mERROR: fastai 1.0.52 has requirement numpy>=1.15, but you'll have numpy 1.13.1 which is incompatible.\u001b[0m\n",
            "\u001b[?25hInstalling collected packages: torch\n",
            "Successfully installed torch-1.0.0\n"
          ],
          "name": "stdout"
        }
      ]
    },
    {
      "cell_type": "code",
      "metadata": {
        "id": "_NBRf0WLSaMl",
        "colab_type": "code",
        "colab": {}
      },
      "source": [
        "import sys\n",
        "sys.path.append('/content/T2F/implementation')\n",
        "sys.path.append('/content/T2F/')"
      ],
      "execution_count": 0,
      "outputs": []
    },
    {
      "cell_type": "code",
      "metadata": {
        "id": "vSRhcaaUSi5o",
        "colab_type": "code",
        "colab": {}
      },
      "source": [
        "from train_network import main as main_train\n",
        "from train_network import get_config"
      ],
      "execution_count": 0,
      "outputs": []
    },
    {
      "cell_type": "code",
      "metadata": {
        "id": "D6rNobaJTaW0",
        "colab_type": "code",
        "outputId": "62f22ea3-5aac-4dc9-cef9-79a9ed2371bd",
        "colab": {
          "base_uri": "https://localhost:8080/",
          "height": 54
        }
      },
      "source": [
        "import argparse\n",
        "\n",
        "parser = argparse.ArgumentParser()\n",
        "parser.add_argument(\"--config\", action=\"store\", type=str, default=\"/content/T2F/implementation/configs/2_colab.conf\",\n",
        "                    help=\"default configuration for the Network\")\n",
        "parser.add_argument(\"--start_depth\", action=\"store\", type=int, default=0,\n",
        "                    help=\"Starting depth for training the network\")\n",
        "parser.add_argument(\"--encoder_file\", action=\"store\", type=str, default=None,\n",
        "                    help=\"pretrained Encoder file (compatible with my code)\")\n",
        "parser.add_argument(\"--ca_file\", action=\"store\", type=str, default=None,\n",
        "                    help=\"pretrained Conditioning Augmentor file (compatible with my code)\")\n",
        "parser.add_argument(\"--generator_file\", action=\"store\", type=str, default=None,\n",
        "                    help=\"pretrained Generator file (compatible with my code)\")\n",
        "parser.add_argument(\"--discriminator_file\", action=\"store\", type=str, default=None,\n",
        "                    help=\"pretrained Discriminator file (compatible with my code)\")"
      ],
      "execution_count": 0,
      "outputs": [
        {
          "output_type": "execute_result",
          "data": {
            "text/plain": [
              "_StoreAction(option_strings=['--discriminator_file'], dest='discriminator_file', nargs=None, const=None, default=None, type=<class 'str'>, choices=None, help='pretrained Discriminator file (compatible with my code)', metavar=None)"
            ]
          },
          "metadata": {
            "tags": []
          },
          "execution_count": 16
        }
      ]
    },
    {
      "cell_type": "code",
      "metadata": {
        "id": "ghS9RsLxTkKG",
        "colab_type": "code",
        "colab": {}
      },
      "source": [
        "args = parser.parse_args([])"
      ],
      "execution_count": 0,
      "outputs": []
    },
    {
      "cell_type": "code",
      "metadata": {
        "id": "vM8DgMpwVlvM",
        "colab_type": "code",
        "colab": {}
      },
      "source": [
        "config = get_config(args.config)"
      ],
      "execution_count": 0,
      "outputs": []
    },
    {
      "cell_type": "code",
      "metadata": {
        "id": "jjaneT7eV5E3",
        "colab_type": "code",
        "colab": {}
      },
      "source": [
        "import torch as th\n",
        "\n",
        "class ConditionAugmentor(th.nn.Module):\n",
        "    \"\"\" Perform conditioning augmentation\n",
        "        from the paper -> https://arxiv.org/abs/1710.10916 (StackGAN++)\n",
        "        uses the reparameterization trick from VAE paper.\n",
        "    \"\"\"\n",
        "\n",
        "    def __init__(self, input_size, latent_size, use_eql=True, device=th.device(\"cpu\")):\n",
        "        \"\"\"\n",
        "        constructor of the class\n",
        "        :param input_size: input size to the augmentor\n",
        "        :param latent_size: required output size\n",
        "        :param use_eql: boolean for whether to use equalized learning rate\n",
        "        :param device: device on which to run the Module\n",
        "        \"\"\"\n",
        "        super(ConditionAugmentor, self).__init__()\n",
        "\n",
        "        assert latent_size % 2 == 0, \"Latent manifold has odd number of dimensions\"\n",
        "\n",
        "        # state of the object\n",
        "        self.device = device\n",
        "        self.input_size = input_size\n",
        "        self.latent_size = latent_size\n",
        "\n",
        "        # required modules:\n",
        "        if use_eql:\n",
        "            from pro_gan_pytorch.CustomLayers import _equalized_linear\n",
        "            self.transformer = _equalized_linear(self.input_size, 2 * self.latent_size).to(device)\n",
        "        else:\n",
        "            self.transformer = th.nn.Linear(self.input_size, 2 * self.latent_size).to(device)\n",
        "\n",
        "    def forward(self, x, epsilon=1e-12):\n",
        "        \"\"\"\n",
        "        forward pass (computations)\n",
        "        :param x: input\n",
        "        :param epsilon: a small noise added for numerical stability\n",
        "        :return: c_not_hat, mus, sigmas => augmented text embeddings, means, stds\n",
        "        \"\"\"\n",
        "        from torch.nn.functional import relu\n",
        "\n",
        "        # apply the feed forward layer:\n",
        "        combined = self.transformer(x)\n",
        "\n",
        "        # use the reparameterization trick\n",
        "        mid_point = self.latent_size\n",
        "        mus, sigmas = combined[:, :mid_point], combined[:, mid_point:]\n",
        "\n",
        "        # mus don't need to be transformed, but sigmas cannot be negative.\n",
        "        # so, we'll apply a ReLU on top of sigmas\n",
        "        sigmas = relu(sigmas)  # hopefully the network will learn a good sigma mapping\n",
        "        sigmas = sigmas + epsilon  # small noise added for stability\n",
        "\n",
        "        epsilon = th.randn(*mus.shape).to(self.device)\n",
        "        c_not_hat = (epsilon * sigmas) + mus\n",
        "\n",
        "        return c_not_hat, mus, sigmas\n"
      ],
      "execution_count": 0,
      "outputs": []
    },
    {
      "cell_type": "code",
      "metadata": {
        "id": "81U0c57PXKvc",
        "colab_type": "code",
        "outputId": "4fbfc8b6-7e7c-4045-e086-f19bc88192b5",
        "colab": {
          "base_uri": "https://localhost:8080/",
          "height": 34
        }
      },
      "source": [
        "device = 'cuda'\n",
        "\n",
        "import data_processing.DataLoader as dl\n",
        "\n",
        "dataset = dl.RawTextFace2TextDataset(\n",
        "    annots_file=config.annotations_file,\n",
        "    img_dir=config.images_dir,\n",
        "    img_transform=dl.get_transform(config.img_dims)\n",
        ")\n",
        "from networks.TextEncoder import PretrainedEncoder\n",
        "# create a new session object for the pretrained encoder:\n",
        "text_encoder = PretrainedEncoder(\n",
        "    model_file=config.pretrained_encoder_file,\n",
        "    embedding_file=config.pretrained_embedding_file,\n",
        "    device=device\n",
        ")"
      ],
      "execution_count": 0,
      "outputs": [
        {
          "output_type": "stream",
          "text": [
            "Vocab size : 300000\n"
          ],
          "name": "stdout"
        }
      ]
    },
    {
      "cell_type": "code",
      "metadata": {
        "id": "CXA8PYnUb0H2",
        "colab_type": "code",
        "outputId": "093aeb66-1a93-4fa1-afbc-276d054d3c0a",
        "colab": {
          "base_uri": "https://localhost:8080/",
          "height": 34
        }
      },
      "source": [
        "text_encoder = PretrainedEncoder(\n",
        "    model_file=config.pretrained_encoder_file,\n",
        "    embedding_file=config.pretrained_embedding_file,\n",
        "    device=device\n",
        ")"
      ],
      "execution_count": 0,
      "outputs": [
        {
          "output_type": "stream",
          "text": [
            "Vocab size : 300000\n"
          ],
          "name": "stdout"
        }
      ]
    },
    {
      "cell_type": "code",
      "metadata": {
        "id": "vBLwHSoZVvYR",
        "colab_type": "code",
        "colab": {}
      },
      "source": [
        "condition_augmenter = ConditionAugmentor(\n",
        "    input_size=config.hidden_size,\n",
        "    latent_size=config.ca_out_size,\n",
        "    use_eql=config.use_eql,\n",
        "    device='cuda'\n",
        ")"
      ],
      "execution_count": 0,
      "outputs": []
    },
    {
      "cell_type": "code",
      "metadata": {
        "id": "f0HanvoGcFLq",
        "colab_type": "code",
        "outputId": "6a1a30cd-a030-4175-e9d5-773bb5d78b8e",
        "colab": {
          "base_uri": "https://localhost:8080/",
          "height": 34
        }
      },
      "source": [
        "temp_data = dl.get_data_loader(dataset, 64, num_workers=3)\n",
        "fixed_captions, fixed_real_images = iter(temp_data).next()\n",
        "fixed_embeddings = text_encoder(fixed_captions)\n",
        "fixed_embeddings.shape"
      ],
      "execution_count": 0,
      "outputs": [
        {
          "output_type": "execute_result",
          "data": {
            "text/plain": [
              "(64, 4096)"
            ]
          },
          "metadata": {
            "tags": []
          },
          "execution_count": 23
        }
      ]
    },
    {
      "cell_type": "code",
      "metadata": {
        "id": "Lx8B23iRXyBM",
        "colab_type": "code",
        "colab": {}
      },
      "source": [
        "condition_augmenter.train()\n",
        "\n",
        "# create fixed_input for debugging\n",
        "temp_data = dl.get_data_loader(dataset, 64, num_workers=3)\n",
        "fixed_captions, fixed_real_images = iter(temp_data).next()\n",
        "fixed_embeddings = text_encoder(fixed_captions)\n",
        "fixed_embeddings = th.from_numpy(fixed_embeddings).to(device)\n",
        "\n",
        "fixed_c_not_hats, _, _ = condition_augmenter(fixed_embeddings)\n",
        "\n",
        "fixed_noise = th.randn(len(fixed_captions),\n",
        "                       config.latent_size - fixed_c_not_hats.shape[-1]).to(device)\n",
        "\n",
        "fixed_gan_input = th.cat((fixed_c_not_hats, fixed_noise), dim=-1)"
      ],
      "execution_count": 0,
      "outputs": []
    },
    {
      "cell_type": "code",
      "metadata": {
        "id": "Lu64dCDPYhvE",
        "colab_type": "code",
        "outputId": "96caa961-0315-417c-b351-1ebae55e240f",
        "colab": {
          "base_uri": "https://localhost:8080/",
          "height": 34
        }
      },
      "source": [
        "fixed_embeddings.shape"
      ],
      "execution_count": 0,
      "outputs": [
        {
          "output_type": "execute_result",
          "data": {
            "text/plain": [
              "torch.Size([64, 4096])"
            ]
          },
          "metadata": {
            "tags": []
          },
          "execution_count": 25
        }
      ]
    },
    {
      "cell_type": "code",
      "metadata": {
        "id": "YPeVD0YEUkaD",
        "colab_type": "code",
        "outputId": "f33b3ba1-c1a3-482f-d75f-66c49279a55d",
        "colab": {
          "base_uri": "https://localhost:8080/",
          "height": 799
        }
      },
      "source": [
        "import torch\n",
        "torch.load('/content/T2F/implementation/networks/InferSent/models/infersent2.pkl')"
      ],
      "execution_count": 0,
      "outputs": [
        {
          "output_type": "execute_result",
          "data": {
            "text/plain": [
              "OrderedDict([('enc_lstm.weight_ih_l0',\n",
              "              tensor([[-0.0220, -0.0015,  0.0162,  ..., -0.0165,  0.0198, -0.0187],\n",
              "                      [ 0.0130,  0.0114,  0.0155,  ..., -0.0107,  0.0087,  0.0057],\n",
              "                      [ 0.0154, -0.0010, -0.0112,  ..., -0.0016,  0.0198,  0.0168],\n",
              "                      ...,\n",
              "                      [ 0.0137, -0.0175,  0.0026,  ...,  0.0131, -0.0162, -0.0105],\n",
              "                      [ 0.0020,  0.0286,  0.0097,  ...,  0.0062,  0.0467, -0.0168],\n",
              "                      [-0.0089, -0.0081,  0.0118,  ...,  0.0097,  0.0081,  0.0198]])),\n",
              "             ('enc_lstm.weight_hh_l0',\n",
              "              tensor([[-4.9984e-03,  1.3833e-02, -5.5068e-03,  ..., -1.4855e-02,\n",
              "                       -2.1088e-02, -1.4722e-03],\n",
              "                      [-1.3573e-03,  1.8085e-02,  3.0116e-04,  ..., -8.6804e-03,\n",
              "                        1.2311e-02,  2.0616e-02],\n",
              "                      [-1.0569e-03,  3.0117e-03,  1.8724e-02,  ..., -7.3298e-03,\n",
              "                       -1.6576e-02,  1.1518e-02],\n",
              "                      ...,\n",
              "                      [-1.4938e-02,  2.3917e-03,  1.1466e-02,  ..., -3.5816e-03,\n",
              "                       -5.9837e-03, -1.0033e-03],\n",
              "                      [-1.8985e-02,  7.0901e-03, -6.9221e-03,  ...,  1.0606e-02,\n",
              "                        8.4039e-03, -3.2391e-03],\n",
              "                      [-2.1475e-02,  9.0015e-05, -1.7918e-02,  ...,  4.7799e-03,\n",
              "                        3.4034e-03, -3.4102e-03]])),\n",
              "             ('enc_lstm.bias_ih_l0',\n",
              "              tensor([ 0.0225,  0.0110, -0.0016,  ..., -0.0044, -0.0077, -0.0223])),\n",
              "             ('enc_lstm.bias_hh_l0',\n",
              "              tensor([ 0.0229,  0.0012, -0.0024,  ...,  0.0241, -0.0069, -0.0016])),\n",
              "             ('enc_lstm.weight_ih_l0_reverse',\n",
              "              tensor([[ 0.0202,  0.0003,  0.0299,  ..., -0.0209,  0.0490,  0.0156],\n",
              "                      [ 0.0028, -0.0021, -0.0081,  ..., -0.0087,  0.0220, -0.0135],\n",
              "                      [ 0.0093, -0.0232, -0.0189,  ...,  0.0167,  0.0130, -0.0195],\n",
              "                      ...,\n",
              "                      [-0.0071, -0.0046,  0.0113,  ..., -0.0137,  0.0190, -0.0316],\n",
              "                      [ 0.0074,  0.0013, -0.0184,  ...,  0.0150,  0.0008, -0.0155],\n",
              "                      [ 0.0148,  0.0233, -0.0181,  ..., -0.0067, -0.0157, -0.0086]])),\n",
              "             ('enc_lstm.weight_hh_l0_reverse',\n",
              "              tensor([[-0.0244,  0.0168,  0.0057,  ...,  0.0214, -0.0095, -0.0018],\n",
              "                      [ 0.0135,  0.0220,  0.0109,  ..., -0.0115, -0.0131, -0.0111],\n",
              "                      [-0.0147, -0.0037, -0.0043,  ...,  0.0003,  0.0023, -0.0016],\n",
              "                      ...,\n",
              "                      [ 0.0012,  0.0171,  0.0117,  ...,  0.0059, -0.0197,  0.0063],\n",
              "                      [ 0.0009,  0.0190,  0.0091,  ...,  0.0090,  0.0104,  0.0080],\n",
              "                      [ 0.0081,  0.0064,  0.0128,  ..., -0.0186,  0.0196, -0.0145]])),\n",
              "             ('enc_lstm.bias_ih_l0_reverse',\n",
              "              tensor([-0.0279,  0.0087,  0.0044,  ...,  0.0170, -0.0070,  0.0152])),\n",
              "             ('enc_lstm.bias_hh_l0_reverse',\n",
              "              tensor([-0.0258,  0.0035, -0.0076,  ..., -0.0066,  0.0037,  0.0109]))])"
            ]
          },
          "metadata": {
            "tags": []
          },
          "execution_count": 26
        }
      ]
    },
    {
      "cell_type": "code",
      "metadata": {
        "id": "V14VfURS-WpR",
        "colab_type": "code",
        "outputId": "25680ee4-b384-4907-dc02-2aab6cd4cf33",
        "colab": {
          "base_uri": "https://localhost:8080/",
          "height": 34
        }
      },
      "source": [
        "from networks.TextEncoder import PretrainedEncoder\n",
        "# create a new session object for the pretrained encoder:\n",
        "text_encoder = PretrainedEncoder(\n",
        "    model_file='/content/T2F/implementation/networks/InferSent/models/infersent2.pkl',\n",
        "    embedding_file='/content/T2F/implementation/networks/InferSent/models/glove.840B.300d.txt',\n",
        "    device='cuda'\n",
        ")"
      ],
      "execution_count": 0,
      "outputs": [
        {
          "output_type": "stream",
          "text": [
            "Vocab size : 300000\n"
          ],
          "name": "stdout"
        }
      ]
    },
    {
      "cell_type": "code",
      "metadata": {
        "id": "t9_kOYTVTA0F",
        "colab_type": "code",
        "colab": {}
      },
      "source": [
        "#main_train(args)"
      ],
      "execution_count": 0,
      "outputs": []
    },
    {
      "cell_type": "code",
      "metadata": {
        "id": "s_HClw096hTO",
        "colab_type": "code",
        "colab": {}
      },
      "source": [
        "import pandas as pd\n",
        "import matplotlib.pyplot as plt"
      ],
      "execution_count": 0,
      "outputs": []
    },
    {
      "cell_type": "code",
      "metadata": {
        "id": "QmHng2xUdkZb",
        "colab_type": "code",
        "outputId": "c1ad543c-2bd9-40ad-d12e-dc47a8788edb",
        "colab": {
          "base_uri": "https://localhost:8080/",
          "height": 269
        }
      },
      "source": [
        "for i in range(4, 5):\n",
        "  log = pd.read_csv('/content/gdrive/My Drive/T2F/training_runs/2/losses/loss_{}.log'.format(i), delimiter='\\t', header=None, names=['d_loss', 'g_loss', 'kl_loss'])\n",
        "  n = len(log.d_loss)\n",
        "  xs = list(range(n*i, n*(i + 1)))\n",
        "  plt.plot(xs, log.d_loss)\n",
        "  plt.plot(xs, log.g_loss)\n",
        "  plt.plot(xs, log.kl_loss)\n",
        "  plt.legend(log.columns)"
      ],
      "execution_count": 0,
      "outputs": [
        {
          "output_type": "display_data",
          "data": {
            "image/png": "[encoded data removed]",
            "text/plain": [
              "<Figure size 432x288 with 1 Axes>"
            ]
          },
          "metadata": {
            "tags": []
          }
        }
      ]
    },
    {
      "cell_type": "code",
      "metadata": {
        "id": "KFDckiiOd64t",
        "colab_type": "code",
        "colab": {}
      },
      "source": [
        "import matplotlib.pyplot as plt\n",
        "%matplotlib inline"
      ],
      "execution_count": 0,
      "outputs": []
    },
    {
      "cell_type": "code",
      "metadata": {
        "id": "Mgfk0I5teAJp",
        "colab_type": "code",
        "outputId": "30bd243e-b7cc-41c7-bb24-7503fe24a0c6",
        "colab": {
          "base_uri": "https://localhost:8080/",
          "height": 286
        }
      },
      "source": [
        "plt.plot(log.d_loss)\n",
        "plt.plot(log.g_loss)\n",
        "plt.plot(log.kl_loss)\n",
        "plt.legend(log.columns)"
      ],
      "execution_count": 0,
      "outputs": [
        {
          "output_type": "execute_result",
          "data": {
            "text/plain": [
              "<matplotlib.legend.Legend at 0x7f6720e37550>"
            ]
          },
          "metadata": {
            "tags": []
          },
          "execution_count": 33
        },
        {
          "output_type": "display_data",
          "data": {
            "image/png": "[encoded data removed]",
            "text/plain": [
              "<Figure size 432x288 with 1 Axes>"
            ]
          },
          "metadata": {
            "tags": []
          }
        }
      ]
    },
    {
      "cell_type": "code",
      "metadata": {
        "id": "oMSFK0S_kDvE",
        "colab_type": "code",
        "colab": {}
      },
      "source": [
        "from networks.ConditionAugmentation import ConditionAugmentor\n",
        "from pro_gan_pytorch.PRO_GAN import ConditionalProGAN\n",
        "\n",
        "import numpy as np\n",
        "\n",
        "def create_grid(samples, scale_factor, img_file, real_imgs=False):\n",
        "    \"\"\"\n",
        "    utility function to create a grid of GAN samples\n",
        "    :param samples: generated samples for storing\n",
        "    :param scale_factor: factor for upscaling the image\n",
        "    :param img_file: name of file to write\n",
        "    :param real_imgs: turn off the scaling of images\n",
        "    :return: None (saves a file)\n",
        "    \"\"\"\n",
        "    from torchvision.utils import save_image\n",
        "    from torch.nn.functional import interpolate\n",
        "\n",
        "    samples = th.clamp((samples / 2) + 0.5, min=0, max=1)\n",
        "\n",
        "    # upsample the image\n",
        "    if not real_imgs and scale_factor > 1:\n",
        "        samples = interpolate(samples,\n",
        "                              scale_factor=scale_factor)\n",
        "\n",
        "    # save the images:\n",
        "    save_image(samples, img_file, nrow=int(np.sqrt(len(samples))))"
      ],
      "execution_count": 0,
      "outputs": []
    },
    {
      "cell_type": "code",
      "metadata": {
        "id": "jIxGP-8w0IkY",
        "colab_type": "code",
        "colab": {}
      },
      "source": [
        "!cd \"/content/gdrive/My Drive/T2F/training_runs/2/saved_models1\""
      ],
      "execution_count": 0,
      "outputs": []
    },
    {
      "cell_type": "code",
      "metadata": {
        "id": "00zS7WSfe4K7",
        "colab_type": "code",
        "colab": {}
      },
      "source": [
        "# create the networks\n",
        "\n",
        "condition_augmenter = ConditionAugmentor(\n",
        "    input_size=config.hidden_size,\n",
        "    latent_size=config.ca_out_size,\n",
        "    use_eql=config.use_eql,\n",
        "    device=device\n",
        ")\n",
        "\n",
        "ca_file = '/content/gdrive/My Drive/T2F/training_runs/2/saved_models1/Condition_Augmentor_4.pth'\n",
        "\n",
        "print(\"Loading conditioning augmenter from:\", ca_file)\n",
        "condition_augmenter.load_state_dict(th.load(ca_file))\n",
        "\n",
        "c_pro_gan = ConditionalProGAN(\n",
        "    embedding_size=config.hidden_size,\n",
        "    depth=config.depth,\n",
        "    latent_size=config.latent_size,\n",
        "    compressed_latent_size=config.compressed_latent_size,\n",
        "    learning_rate=config.learning_rate,\n",
        "    beta_1=config.beta_1,\n",
        "    beta_2=config.beta_2,\n",
        "    eps=config.eps,\n",
        "    drift=config.drift,\n",
        "    n_critic=config.n_critic,\n",
        "    use_eql=config.use_eql,\n",
        "    loss=config.loss_function,\n",
        "    use_ema=config.use_ema,\n",
        "    ema_decay=config.ema_decay,\n",
        "    device=device\n",
        ")\n",
        "\n",
        "generator_file = '/content/gdrive/My Drive/T2F/training_runs/2/saved_models1/GAN_GEN_4.pth'\n",
        "print(\"Loading generator from:\", generator_file)\n",
        "c_pro_gan.gen.load_state_dict(th.load(generator_file))"
      ],
      "execution_count": 0,
      "outputs": []
    },
    {
      "cell_type": "code",
      "metadata": {
        "id": "z-GiHK96jkHT",
        "colab_type": "code",
        "colab": {}
      },
      "source": [
        "condition_augmenter.train(False)"
      ],
      "execution_count": 0,
      "outputs": []
    },
    {
      "cell_type": "code",
      "metadata": {
        "id": "kcJ9nQlqkjAt",
        "colab_type": "code",
        "colab": {}
      },
      "source": [
        "temp_data = dl.get_data_loader(dataset, 1, num_workers=3)\n",
        "fixed_captions, fixed_real_images = iter(temp_data).next()"
      ],
      "execution_count": 0,
      "outputs": []
    },
    {
      "cell_type": "code",
      "metadata": {
        "id": "_-GrGDemzcds",
        "colab_type": "code",
        "colab": {}
      },
      "source": [
        "str = input('Enter your caption : ')\n"
      ],
      "execution_count": 0,
      "outputs": []
    },
    {
      "cell_type": "code",
      "metadata": {
        "id": "-LfAlkGUOoR1",
        "colab_type": "code",
        "colab": {}
      },
      "source": [
        "fixed_caption = (str,)\n",
        "fixed_captions = fixed_caption"
      ],
      "execution_count": 0,
      "outputs": []
    },
    {
      "cell_type": "code",
      "metadata": {
        "id": "YqAo6jbjnryC",
        "colab_type": "code",
        "colab": {}
      },
      "source": [
        "for counter16 in range(30):\n",
        "  fixed_embeddings = text_encoder(fixed_captions)\n",
        "  fixed_embeddings = th.from_numpy(fixed_embeddings).to(device)\n",
        "\n",
        "  fixed_c_not_hats, mus, _ = condition_augmenter(fixed_embeddings)\n",
        "\n",
        "  fixed_noise = th.zeros(len(fixed_captions),\n",
        "                         c_pro_gan.latent_size - fixed_c_not_hats.shape[-1]).to(device)\n",
        "\n",
        "  fixed_gan_input = th.cat((fixed_c_not_hats, fixed_noise), dim=-1)\n",
        "  create_grid(\n",
        "      samples=c_pro_gan.gen(\n",
        "          fixed_gan_input,\n",
        "          4,\n",
        "          1.0\n",
        "      ),\n",
        "      scale_factor=1,\n",
        "      img_file='output.png')\n",
        "\n",
        "  img = plt.imread('output.png')\n",
        "  plt.figure()\n",
        "  plt.imshow(img)"
      ],
      "execution_count": 0,
      "outputs": []
    },
    {
      "cell_type": "code",
      "metadata": {
        "id": "GNlqaQErnQ2L",
        "colab_type": "code",
        "colab": {}
      },
      "source": [
        "fixed_captions"
      ],
      "execution_count": 0,
      "outputs": []
    },
    {
      "cell_type": "code",
      "metadata": {
        "id": "CRoWBY-Bn5zh",
        "colab_type": "code",
        "colab": {}
      },
      "source": [
        "fixed_embeddings.shape"
      ],
      "execution_count": 0,
      "outputs": []
    },
    {
      "cell_type": "code",
      "metadata": {
        "id": "_Rs4KX4Wn9b1",
        "colab_type": "code",
        "colab": {}
      },
      "source": [
        ""
      ],
      "execution_count": 0,
      "outputs": []
    },
    {
      "cell_type": "code",
      "metadata": {
        "id": "NNAKinu6Ok9o",
        "colab_type": "code",
        "colab": {}
      },
      "source": [
        ""
      ],
      "execution_count": 0,
      "outputs": []
    }
  ]
}